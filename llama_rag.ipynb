{
 "cells": [
  {
   "cell_type": "markdown",
   "metadata": {},
   "source": [
    "# LLAMA3 RAG"
   ]
  },
  {
   "cell_type": "markdown",
   "metadata": {},
   "source": [
    "### Index"
   ]
  },
  {
   "cell_type": "code",
   "execution_count": 5,
   "metadata": {},
   "outputs": [],
   "source": [
    "import os\n",
    "from dotenv import load_dotenv\n",
    "from langchain.text_splitter import RecursiveCharacterTextSplitter\n",
    "from langchain_community.vectorstores import Chroma\n",
    "from langchain_openai import OpenAIEmbeddings\n",
    "from langchain_community.document_loaders import FireCrawlLoader\n",
    "from langchain_community.vectorstores.utils import filter_complex_metadata\n",
    "from langchain.docstore.document import Document\n",
    "\n",
    "# Load environment variables from .env file\n",
    "load_dotenv()\n",
    "\n",
    "local_llm = \"llama3\"\n",
    "\n",
    "urls = [\n",
    "    \"https://mormonr.org/qnas/a9l1T/the_kinderhook_plates\",\n",
    "]\n",
    "\n",
    "docs = [\n",
    "    FireCrawlLoader(\n",
    "        api_key=os.getenv(\"FIRECRAWL_API_KEY\"), url=url, mode=\"scrape\"\n",
    "    ).load()\n",
    "    for url in urls\n",
    "]\n",
    "\n",
    "# Split documents\n",
    "docs_list = []\n",
    "for sublist in docs:\n",
    "    for item in sublist:\n",
    "        docs_list.append(item)\n",
    "\n",
    "text_splitter = RecursiveCharacterTextSplitter.from_tiktoken_encoder(\n",
    "    chunk_size=1024,\n",
    "    chunk_overlap=30,\n",
    ")\n",
    "\n",
    "docs_splits = text_splitter.split_documents(docs_list)\n",
    "\n",
    "# Filter out complex metadata and ensure proper document formatting\n",
    "filtered_docs = []\n",
    "for doc in docs_splits:\n",
    "    # Ensure the doc is an instance of Document and has a 'metadata' attribute\n",
    "    if isinstance(doc, Document) and hasattr(doc, \"metadata\"):\n",
    "        clean_metadata = {\n",
    "            k: v\n",
    "            for k, v in doc.metadata.items()\n",
    "            if isinstance(v, (str, int, float, bool))\n",
    "        }\n",
    "        filtered_docs.append(Document(doc.page_content, metadata=clean_metadata))\n",
    "\n",
    "# Add to vectorDB. For deployment, we want to use pinecone\n",
    "vectorstore = Chroma.from_documents(\n",
    "    documents=filtered_docs,\n",
    "    collection_name=\"rag-chroma\",\n",
    "    embedding=OpenAIEmbeddings(),\n",
    ")\n",
    "\n",
    "retriever = vectorstore.as_retriever()"
   ]
  },
  {
   "cell_type": "markdown",
   "metadata": {},
   "source": [
    "### Retrieval Grader"
   ]
  },
  {
   "cell_type": "code",
   "execution_count": 6,
   "metadata": {},
   "outputs": [
    {
     "name": "stdout",
     "output_type": "stream",
     "text": [
      "{'score': 'yes'}\n"
     ]
    }
   ],
   "source": [
    "from langchain.prompts import PromptTemplate\n",
    "from langchain_community.chat_models import ChatOllama\n",
    "from langchain_core.output_parsers import JsonOutputParser\n",
    "\n",
    "llm = ChatOllama(temperature=0, format=\"json\", model=local_llm)\n",
    "\n",
    "prompt = PromptTemplate(\n",
    "    template=\"\"\"\n",
    "    <|begin_of_text|><|start_header_id|>system<|end_header_id|> \n",
    "    You are a grader assessing relevance of a retrieved doucment to a user question. If the document contains keywords related to the user queston, grade it as relevant. It does not need to be a stringent test. The goal is to filter out erroneous retrievals. \\n\n",
    "    Give the binary score, 'yes' or 'no' score, to indicate whether the retrieved document is relevant to question. \\n \n",
    "    Provide the binary score as a JSON with a single key 'score' and no premable or explanation. <|eot_id|><|start_header_id|>user<|end_header_id|>\n",
    "    Here is the retrieved document: {document} \\n\n",
    "    Here is the user question: {question} \\n <|eot_id|><|start_header_id|>assistant<|end_header_id|>\n",
    "    \"\"\",\n",
    "    input_variables=[\"document\", \"question\"],  # do I really need this?\n",
    ")\n",
    "\n",
    "retrieval_grader = prompt | llm | JsonOutputParser()\n",
    "question = (\n",
    "    \"Does kinderhook plates prove that Joseph Smith as a false prophet or a liar?\"\n",
    ")\n",
    "docs = retriever.invoke(question)\n",
    "\n",
    "doc_text = docs[1].page_content\n",
    "print(retrieval_grader.invoke({\"question\": question, \"document\": doc_text}))"
   ]
  },
  {
   "cell_type": "markdown",
   "metadata": {},
   "source": [
    "### Generate Answer"
   ]
  },
  {
   "cell_type": "code",
   "execution_count": 7,
   "metadata": {},
   "outputs": [
    {
     "name": "stdout",
     "output_type": "stream",
     "text": [
      "Based on the provided context, it is clear that Joseph Smith did not attempt to use revelation, the seer stone, or the Urim and Thummim when examining the Kinderhook plates. Instead, Joseph seemed to have used secular methods to analyze the plates. The historical record indicates that Joseph made a cursory translation of one of the symbols on the plates, likely comparing it to his Egyptian studies, and then asked for an expert to authenticate them. He subsequently lost interest and never followed up on the matter ([source](https://mormonr.org/qnas/a9l1T/the_kinderhook_plates)).\n",
      "\n",
      "In summary, Joseph Smith did not use revelation, the seer stone, or the Urim and Thummim in relation to the Kinderhook plates.\n"
     ]
    }
   ],
   "source": [
    "# Generate\n",
    "from langchain import hub\n",
    "from langchain_openai import ChatOpenAI\n",
    "from langchain_core.output_parsers import StrOutputParser\n",
    "\n",
    "# prompt\n",
    "prompt = PromptTemplate(\n",
    "    template=\"\"\"<|begin_of_text|><|start_header_id|>system<|end_header_id|> You are an assistant for question-answering tasks.\n",
    "    Use the following pieces of retrived context to answer the question. When you answer the question, it's MOST important that you back it up with specific citations or source links. If the documents use footnotes, be sure to track it down and use the information provided by the footnotes. Provide the URL if you are using a source link. Give as many realiable sources you find in the documents. If there are conflicts or inconsistency between multiple sources you found from the retrived context, choose one based on sound logic (i.e., firsthand accounts are preferred over second hands account, verified resarch with newer dates are preferred) and explain why you made the choce. See the examples below. \n",
    "    \n",
    "    Example 1\n",
    "    Input: \n",
    "    Did Emma Smith push Fanny Alger down the stairs and cause her to miscarry?\n",
    "\n",
    "    Output:\n",
    "    Answer: No, based on this article, [source 1] This has been confused with a story circulated about Eliza R. Snow,[source 2, 3] but that story is unlikely to be true. [source 4]\n",
    "    \n",
    "    Sources:\n",
    "    [1] https://mormonr.org/qnas/qp3yc/joseph_smith_and_fanny_alger\n",
    "    [2] https://mormonr.org/qnas/qp3yc/joseph_smith_and_fanny_alger#bio-0MvZJi\n",
    "    [3] https://mormonr.org/qnas/qp3yc/joseph_smith_and_fanny_alger#footnote-marker-55  \n",
    "    [4] https://mormonr.org/qnas/qp3yc/joseph_smith_and_fanny_alger/research#re-psWfCb-sF7Akb \n",
    "             \n",
    "    \n",
    "    Example 2\n",
    "    Input:\n",
    "    Were Joseph and Fanny caught having sex in a barn?\n",
    "\n",
    "    Answer: Most unlikely. The only historical record with that detail comes from an 1872 account from William McLellin [source 1], who claimed Joseph and Fanny were \"caught in the act\" of being \"sealed\" in a barn by Emma Smith.[source 2, 3, 4] In addition to the account being thirdhand and a recollection from many decades later, McLellin had been excommunicated for apostasy, had a personal vendetta against Joseph, and was an active participant in the Missouri mobs.[source 5, 6]\n",
    "    \n",
    "    Sources:\n",
    "    [1] https://mormonr.org/qnas/qp3yc/joseph_smith_and_fanny_alger#bio-0lnabw \n",
    "    [2] https://mormonr.org/qnas/qp3yc/joseph_smith_and_fanny_alger#bio-mgbYrb \n",
    "    [3] https://mormonr.org/qnas/qp3yc/joseph_smith_and_fanny_alger#footnote-50 \n",
    "    [4] https://mormonr.org/qnas/qp3yc/joseph_smith_and_fanny_alger/research#re-jZTiDc-eUuNic \n",
    "    [5] https://mormonr.org/qnas/qp3yc/joseph_smith_and_fanny_alger#footnote-51 \n",
    "    [6] https://mormonr.org/qnas/qp3yc/joseph_smith_and_fanny_alger/research#re-psWfCb-OmYWic \n",
    "    \n",
    "\n",
    "    If you don't know the answer, just say that you don't know. <|eot_id|><|start_header_id|>user<|end_header_id|>\n",
    "    Question: {question}\n",
    "    Context: {context}\n",
    "    Answer: <|eot_id|><|start_header_id|>assistant<|end_header_id|>\n",
    "    \"\"\",\n",
    "    input_variables=[\"question\", \"context\"],\n",
    ")\n",
    "\n",
    "llm = ChatOpenAI(temperature=0.5, model=\"gpt-4o\")\n",
    "\n",
    "rag_chain = prompt | llm | StrOutputParser()\n",
    "\n",
    "question = (\n",
    "    \"Does kinderhook plates prove that Joseph Smith as a false prophet or a liar?\"\n",
    ")\n",
    "docs = retriever.invoke(question)\n",
    "generation = rag_chain.invoke({\"context\": docs, \"question\": \"question\"})\n",
    "print(generation)"
   ]
  },
  {
   "cell_type": "code",
   "execution_count": null,
   "metadata": {},
   "outputs": [],
   "source": [
    "# Just playing with Jina AI for readable crawl, it's free! But it didn't parse footnotes, perhaps llamaparse or llamaindex would do a better job.\n",
    "import requests\n",
    "\n",
    "\n",
    "def scrape_jina_ai(url: str) -> str:\n",
    "    response = requests.get(\"https://r.jina.ai/\" + url)\n",
    "    return response.text\n",
    "\n",
    "\n",
    "jina_response = scrape_jina_ai(\"https://mormonr.org/qnas/a9l1T/the_kinderhook_plates\")\n",
    "print(jina_response)"
   ]
  },
  {
   "cell_type": "markdown",
   "metadata": {},
   "source": [
    "### Web Search via Tavily"
   ]
  },
  {
   "cell_type": "code",
   "execution_count": null,
   "metadata": {},
   "outputs": [],
   "source": [
    "travily_api_key = os.getevn(\"TAVILY_API_KEY\")\n",
    "\n",
    "from langchain_community.tools.tavily_search import TavilySearchResults\n",
    "\n",
    "web_search_tool = TavilySearchResults(k=3, api_key=travily_api_key)"
   ]
  },
  {
   "cell_type": "code",
   "execution_count": null,
   "metadata": {},
   "outputs": [],
   "source": []
  }
 ],
 "metadata": {
  "kernelspec": {
   "display_name": "venv",
   "language": "python",
   "name": "python3"
  },
  "language_info": {
   "codemirror_mode": {
    "name": "ipython",
    "version": 3
   },
   "file_extension": ".py",
   "mimetype": "text/x-python",
   "name": "python",
   "nbconvert_exporter": "python",
   "pygments_lexer": "ipython3",
   "version": "3.11.7"
  }
 },
 "nbformat": 4,
 "nbformat_minor": 2
}
