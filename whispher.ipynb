{
 "cells": [
  {
   "cell_type": "code",
   "execution_count": 6,
   "metadata": {},
   "outputs": [],
   "source": [
    "import subprocess\n",
    "import math\n",
    "from pydub import AudioSegment\n",
    "\n",
    "\n",
    "def extract_audio_from_video(video_path, audio_path):\n",
    "    command = [\"ffmpeg\", \"-i\", video_path, \"-vn\", audio_path,]\n",
    "    subprocess.run(command)\n",
    "    \n",
    "def cut_audio_in_chunks(audio_path, chunk_minutes, chunk_folder):\n",
    "    track = AudioSegment.from_mp3(audio_path)\n",
    "    chunk_seconds = chunk_minutes * 60 * 1000\n",
    "    chunks = math.ceil(len(track) / chunk_seconds)\n",
    "    for i in range(chunks):\n",
    "        start_time = i * chunk_seconds  \n",
    "        end_time = (i+1) * chunk_seconds\n",
    "        chunk = track[start_time:end_time]\n",
    "        chunk.export(f\"{chunk_folder}/chunk_{i}.mp3\", format=\"mp3\")"
   ]
  },
  {
   "cell_type": "code",
   "execution_count": null,
   "metadata": {},
   "outputs": [],
   "source": [
    "# extract_audio_from_video(\n",
    "#     \"./files/wilcox.mp4\",\n",
    "#     \".files/wilcox.mp3\"\n",
    "# )"
   ]
  },
  {
   "cell_type": "code",
   "execution_count": 7,
   "metadata": {},
   "outputs": [],
   "source": [
    "import openai\n",
    "import glob\n",
    "        \n",
    "def transcribe_chunks(chunk_folder, destination_file):\n",
    "    files = glob.glob(f\"{chunk_folder}/*.mp3\")\n",
    "    for file in files:\n",
    "        with open(file, \"rb\") as audio_file, open(destination_file, \"a\") as text_file:\n",
    "            transcript = openai.audio.transcriptions.create(\n",
    "                model=\"whisper-1\", \n",
    "                file=audio_file,\n",
    "            )\n",
    "            text_file.write(transcript.text) \n",
    "            \n",
    "transcribe_chunks(\"./files/chunks\", \"./files/transcript.txt\",)"
   ]
  },
  {
   "cell_type": "code",
   "execution_count": null,
   "metadata": {},
   "outputs": [],
   "source": []
  },
  {
   "cell_type": "markdown",
   "metadata": {},
   "source": []
  }
 ],
 "metadata": {
  "kernelspec": {
   "display_name": "venv",
   "language": "python",
   "name": "python3"
  },
  "language_info": {
   "codemirror_mode": {
    "name": "ipython",
    "version": 3
   },
   "file_extension": ".py",
   "mimetype": "text/x-python",
   "name": "python",
   "nbconvert_exporter": "python",
   "pygments_lexer": "ipython3",
   "version": "3.11.7"
  }
 },
 "nbformat": 4,
 "nbformat_minor": 2
}
