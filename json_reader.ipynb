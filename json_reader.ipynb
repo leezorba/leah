{
 "cells": [
  {
   "cell_type": "code",
   "execution_count": null,
   "metadata": {},
   "outputs": [],
   "source": [
    "import json\n",
    "from pathlib import Path\n",
    "from pprint import pprint\n",
    "\n",
    "file_path='./.cache/json_files/mormonr_kinderhook.json'\n",
    "data = json.loads(Path(file_path).read_text())\n"
   ]
  },
  {
   "cell_type": "code",
   "execution_count": null,
   "metadata": {},
   "outputs": [],
   "source": [
    "#pprint(data)"
   ]
  },
  {
   "cell_type": "code",
   "execution_count": null,
   "metadata": {},
   "outputs": [],
   "source": [
    "%load_ext watermark\n",
    "%watermark -a \"Hwa Lee\" -vmp langchain,openai,jq"
   ]
  },
  {
   "cell_type": "code",
   "execution_count": 29,
   "metadata": {},
   "outputs": [],
   "source": [
    "from langchain_community.document_loaders import JSONLoader\n",
    "\n",
    "jq_schema = '''\n",
    ".[] | {\n",
    "  footnote: .content | match(\"\\\\\\\\[\\\\\\\\[\\\\\\\\d+\\\\\\\\]\\\\\\\\]\\\\\\\\(#footnote-\\\\\\\\d+\\\\\\\\)\"),\n",
    "  source: .content | match(\"\\\\\\\\[\\\\\\\\[\\\\\\\\d+\\\\\\\\]\\\\\\\\]\\\\\\\\(#footnote-\\\\\\\\d+\\\\\\\\)\\\\\\\\n    \\\\\\\\u21a9\\\\\\\\\\\\ufe0e\\\\\\\\(#footnote-marker-\\\\\\\\d+\\\\\\\\)\")\n",
    "}\n",
    "'''\n",
    "\n",
    "loader = JSONLoader(\n",
    "    file_path='./.cache/json_files/mormonr_kinderhook.json',\n",
    "    jq_schema=jq_schema,\n",
    "    text_content=False,\n",
    ")\n",
    "\n",
    "data = loader.load()\n",
    "\n",
    "# Display extracted data\n",
    "for item in data:\n",
    "    print(item)"
   ]
  },
  {
   "cell_type": "code",
   "execution_count": 30,
   "metadata": {},
   "outputs": [
    {
     "name": "stdout",
     "output_type": "stream",
     "text": [
      "[]\n"
     ]
    }
   ],
   "source": [
    "pprint(data)"
   ]
  },
  {
   "cell_type": "code",
   "execution_count": null,
   "metadata": {},
   "outputs": [],
   "source": []
  }
 ],
 "metadata": {
  "kernelspec": {
   "display_name": "venv",
   "language": "python",
   "name": "python3"
  },
  "language_info": {
   "codemirror_mode": {
    "name": "ipython",
    "version": 3
   },
   "file_extension": ".py",
   "mimetype": "text/x-python",
   "name": "python",
   "nbconvert_exporter": "python",
   "pygments_lexer": "ipython3",
   "version": "3.11.7"
  }
 },
 "nbformat": 4,
 "nbformat_minor": 2
}
