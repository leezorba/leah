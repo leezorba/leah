{
 "cells": [
  {
   "cell_type": "code",
   "execution_count": 11,
   "metadata": {},
   "outputs": [
    {
     "data": {
      "text/plain": [
       "str"
      ]
     },
     "execution_count": 11,
     "metadata": {},
     "output_type": "execute_result"
    }
   ],
   "source": [
    "from langchain_openai import ChatOpenAI\n",
    "from langchain.prompts import PromptTemplate\n",
    "\n",
    "function = {\n",
    "    \"name\": \"create_quiz\",\n",
    "    \"description\": \"this is a function that takes a list of questions and answers and returns 5 quizzes in the following format. Each quiz should have 4 answers to choose from and only one answer is correct.\",\n",
    "    \"parameters\": {\n",
    "        \"type\": \"object\",\n",
    "        \"properties\": {\n",
    "            \"questions\": {\n",
    "                \"type\": \"array\",\n",
    "                \"items\": {\n",
    "                    \"type\": \"object\", \n",
    "                    \"properties\": {\n",
    "                        \"question\": {\n",
    "                            \"type\": \"string\",\n",
    "                        }, \n",
    "                        \"answers\":  {\n",
    "                            \"type\": \"object\", \n",
    "                            \"properties\": {\n",
    "                                \"answer\": {\n",
    "                                    \"type\": \"string\",\n",
    "                                },\n",
    "                                \"correct\": {\n",
    "                                    \"type\": \"boolean\",\n",
    "                                },\n",
    "                            },\n",
    "                            \"required\": [\"answer\", \"correct\"],\n",
    "                        },\n",
    "                    },\n",
    "                    \"required\": [\"question\", \"answers\"],\n",
    "                }\n",
    "            }\n",
    "        },\n",
    "        \"required\": [\"questions\"],\n",
    "    },\n",
    "}\n",
    "\n",
    "llm = ChatOpenAI(\n",
    "    temperature=0.1,\n",
    ").bind(\n",
    "    function_call={\"name\":\"create_quiz\",}, \n",
    "    functions = [\n",
    "        function,\n",
    "        ],\n",
    ")\n",
    "\n",
    "prompt = PromptTemplate.from_template(\"Make a quiz about {topic}.\")\n",
    "\n",
    "chain = prompt | llm\n",
    "response = chain.invoke({\"topic\": \"The Book of Mormon\"})\n",
    "\n",
    "response = response.additional_kwargs[\"function_call\"][\"arguments\"]\n",
    "\n",
    "type(response)\n",
    "\n"
   ]
  },
  {
   "cell_type": "code",
   "execution_count": 16,
   "metadata": {},
   "outputs": [
    {
     "name": "stdout",
     "output_type": "stream",
     "text": [
      "{'question': 'Who is the author of The Book of Mormon?', 'answers': [{'answer': 'Joseph Smith', 'correct': False}, {'answer': 'Mormon', 'correct': False}, {'answer': 'Nephi', 'correct': False}, {'answer': 'Multiple ancient prophets', 'correct': True}]}\n",
      "{'question': 'Where does The Book of Mormon take place?', 'answers': [{'answer': 'Europe', 'correct': False}, {'answer': 'Asia', 'correct': False}, {'answer': 'North America', 'correct': True}, {'answer': 'Africa', 'correct': False}]}\n",
      "{'question': 'What is the main theme of The Book of Mormon?', 'answers': [{'answer': 'Love and friendship', 'correct': False}, {'answer': 'War and conflict', 'correct': False}, {'answer': 'Faith in Jesus Christ', 'correct': True}, {'answer': 'Exploration and discovery', 'correct': False}]}\n",
      "{'question': 'How many books are in The Book of Mormon?', 'answers': [{'answer': '5', 'correct': False}, {'answer': '10', 'correct': False}, {'answer': '15', 'correct': False}, {'answer': '12', 'correct': True}]}\n",
      "{'question': 'Who is the prophet that abridged the records in The Book of Mormon?', 'answers': [{'answer': 'Alma', 'correct': False}, {'answer': 'Moroni', 'correct': True}, {'answer': 'Lehi', 'correct': False}, {'answer': 'Ammon', 'correct': False}]}\n"
     ]
    }
   ],
   "source": [
    "import json\n",
    "\n",
    "for question in json.loads(response)['questions']:\n",
    "    print(question)"
   ]
  },
  {
   "cell_type": "code",
   "execution_count": null,
   "metadata": {},
   "outputs": [],
   "source": []
  }
 ],
 "metadata": {
  "kernelspec": {
   "display_name": "venv",
   "language": "python",
   "name": "python3"
  },
  "language_info": {
   "codemirror_mode": {
    "name": "ipython",
    "version": 3
   },
   "file_extension": ".py",
   "mimetype": "text/x-python",
   "name": "python",
   "nbconvert_exporter": "python",
   "pygments_lexer": "ipython3",
   "version": "3.11.7"
  }
 },
 "nbformat": 4,
 "nbformat_minor": 2
}
